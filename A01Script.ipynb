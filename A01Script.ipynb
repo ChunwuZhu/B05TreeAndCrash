{
 "cells": [
  {
   "cell_type": "markdown",
   "metadata": {},
   "source": [
    "# 1.转换结果表格为latex"
   ]
  },
  {
   "cell_type": "code",
   "execution_count": 2,
   "metadata": {},
   "outputs": [],
   "source": [
    "import pandas as pd\n",
    "\n",
    "# 读取 Excel 文件中的 Latex sheet\n",
    "file_path = r'B01Table\\RegReults.xlsx'\n",
    "df_latex = pd.read_excel(file_path, sheet_name='Latex')\n",
    "\n",
    "# 将 DataFrame 转换为 LaTeX 格式并保存为 .tex 文件\n",
    "latex_content = df_latex.to_latex(index=False)\n",
    "output_path = r'B01Table\\AerialBak.tex'\n",
    "with open(output_path, 'w') as f:\n",
    "    f.write(latex_content)"
   ]
  },
  {
   "cell_type": "code",
   "execution_count": null,
   "metadata": {},
   "outputs": [],
   "source": []
  }
 ],
 "metadata": {
  "kernelspec": {
   "display_name": "base",
   "language": "python",
   "name": "python3"
  },
  "language_info": {
   "codemirror_mode": {
    "name": "ipython",
    "version": 3
   },
   "file_extension": ".py",
   "mimetype": "text/x-python",
   "name": "python",
   "nbconvert_exporter": "python",
   "pygments_lexer": "ipython3",
   "version": "3.10.11"
  }
 },
 "nbformat": 4,
 "nbformat_minor": 2
}
